{
 "cells": [
  {
   "cell_type": "code",
   "execution_count": 39,
   "metadata": {},
   "outputs": [],
   "source": [
    "# O primeiro passo para a criação da rede neural é a importação de bibliotecas.\n",
    "\n",
    "%matplotlib inline\n",
    "import pandas as pd # Biblioteca para gestão de dados\n",
    "import numpy as np # Biblioteca para operações matemáticas com matrizes\n",
    "import matplotlib.pyplot as plt # Biblioteca para plotagem de gráficos"
   ]
  },
  {
   "cell_type": "code",
   "execution_count": 40,
   "metadata": {},
   "outputs": [],
   "source": [
    "# Em seguida, lemos o arquivo com os dados de treinamento usando a Biblioteca Pandas.\n",
    "\n",
    "ds = pd.read_excel('dataset.xlsx')"
   ]
  },
  {
   "cell_type": "code",
   "execution_count": 41,
   "metadata": {},
   "outputs": [
    {
     "name": "stdout",
     "output_type": "stream",
     "text": [
      "           X1        X2  Y\n",
      "0    0.003865  0.041168  0\n",
      "1    0.006047  0.041684  0\n",
      "2    0.009573  0.042209  0\n",
      "3    0.037532  0.042572  0\n",
      "4    0.014802  0.042734  0\n",
      "..        ...       ... ..\n",
      "205  4.157979  1.053691  1\n",
      "206  4.113852  1.625432  1\n",
      "207  4.167518  2.581314  1\n",
      "208  4.172244  4.020801  1\n",
      "209  4.128780  6.699484  1\n",
      "\n",
      "[210 rows x 3 columns]\n"
     ]
    }
   ],
   "source": [
    "# A base de dados pode ser vista a seguir, em formato de tabela.\n",
    "\n",
    "print(ds)"
   ]
  },
  {
   "cell_type": "code",
   "execution_count": 42,
   "metadata": {},
   "outputs": [],
   "source": [
    "# Notemos que para este problema, temos duas entradas, X1 e X2, e queremos prever uma saída: O interesse, Y.\n",
    "# Portanto, nossa rede neural deve ter dois nódulos de entrada e um de saída. \n",
    "# Para a camada escondida, vamos escolher um número arbitrário, como 3, que pode ser alterado posteriormente.\n",
    "\n",
    "node_in = 2 # Número de Nódulos de Entrada\n",
    "node_out = 1 # Número de Nódulos de Saída\n",
    "node_hidden = 3 # Número de Nódulos na Camada Escondida\n",
    "\n",
    "# Note, portanto, que teremos uma lista com 210 matrizes 1x2 (entradas) e 210 matrizes 1x1 (saídas)\n",
    "# A camada escondida representa uma lista com 210 matrizes 1x3.\n",
    "\n",
    "# Dessa forma podemos definir as matrizes peso entre as camadas. (2x3 e 3x1, respectivamente)\n",
    "# Vamos iniciá-las como valores aleatórios seguindo uma distribuição gaussiana, usando a Biblioteca Numpy\n",
    "\n",
    "W1 = np.random.standard_normal((node_in, node_hidden)) # Matriz de pesos entre as camadas de entrada e escondida \n",
    "W2 = np.random.standard_normal((node_hidden, node_out)) # Matriz de pesos entre as camadas de saída e escondida \n",
    "\n",
    "# É conveniente também inicializar a Função de Ativação. A função escolhida foi a Sigmóide:\n",
    "\n",
    "def funact(x):\n",
    "    sig = 1/(1 + np.exp(-x)) \n",
    "    return sig\n",
    "\n",
    "# Para o caso simples em que se trata, não é necessária a inclusão de ciclos, logo nossa Rede Neural é um FNN\n",
    "# Logo, no processo de Backward pass é relevante definir a função de erro quadrático:\n",
    "\n",
    "def erro_quad(prev,real):\n",
    "    return (prev - real)**2 # Note que como o resultado é sempre binário, 0 significa acerto e 1 significa erro.\n",
    "\n",
    "# Em backpropagation se usa a regra da cadeia, então é conveniente definir as derivadas:\n",
    "    \n",
    "def dfunact_dx(x):                         # Derivada primeira da função sigmóide\n",
    "    return funact(x)*(1 - funact(x))\n",
    "\n",
    "def derro_dprev(prev,real):\n",
    "    return 2*(prev - real)\n",
    "\n",
    "# Por motivos didáticos, realizei o cálculo das derivadas à mão:\n",
    "\n",
    "def dno_dvar(no,var):                  # Essa função usa o valor do nódulo no ponto e da variável de derivação, funciona\n",
    "    return dfunact_dx(no)*var          # para as seguintes derivadas: dprev/dh, dprev/dw, dh/dw.\n",
    "\n",
    "def decremento(peso,derivada,netta):   # Essa função realiza a atualização do valor do peso\n",
    "    return peso - netta*derivada\n",
    "\n"
   ]
  },
  {
   "cell_type": "code",
   "execution_count": 43,
   "metadata": {},
   "outputs": [
    {
     "data": {
      "image/png": "[encoded data removed]",
      "text/plain": [
       "<Figure size 432x288 with 1 Axes>"
      ]
     },
     "metadata": {
      "needs_background": "light"
     },
     "output_type": "display_data"
    },
    {
     "name": "stdout",
     "output_type": "stream",
     "text": [
      "Acurácia ao final de 200 iterações: 91.42857142857143 %\n"
     ]
    }
   ],
   "source": [
    "j = 0\n",
    "eta = 0.01\n",
    "\n",
    "iteracoes = np.array([[]])\n",
    "var_erro = np.array([[]])\n",
    "\n",
    "for j in range(200):\n",
    "    soma = 0\n",
    "    i = 0\n",
    "# Forward Pass\n",
    "    for i in range(len(ds['Y'])):               # Vamos passar por todos elementos da tabela, no caso 210\n",
    "        mat_in = [ds['X1'][i],ds['X2'][i]]      # Aqui definimos a matriz de entrada, pelos valores de X1 e X2 \n",
    "        H = funact(np.matmul(mat_in,W1))        # Então se faz a multiplicação dessa matriz com a matriz de pesos e é então                                       \n",
    "                                                # passado pela função de ativação\n",
    "        previsao = funact(np.matmul(H,W2))      # O processo é repetido, porém partindo da camada escondida, para a previsão\n",
    "        if previsao > 0.5:                     # Aqui transformamos o valor em binário: Há interesse (previsão >0.5), ou não\n",
    "            previsao_bi = 1\n",
    "        else:\n",
    "            previsao_bi = 0                     \n",
    "                                                # Então, descobrimos a quantidade de erros (ou seja, quando o erro quadrático\n",
    "        soma = soma + erro_quad(previsao_bi,ds['Y'][i])   # retorna 1) e somamos para classificar a qualidade da NN.\n",
    "        mse = soma/len(ds['Y'])\n",
    "# Backward Pass\n",
    "        de_dy = derro_dprev(previsao_bi,ds['Y'][i])       # Derivada do erro pela previsão\n",
    "        dprev_dw = dno_dvar(previsao,H)                   # Derivada da previsão pelos pesos de 7 a 9\n",
    "        dprev_dh = dno_dvar(previsao,W2)                  # Derivada da previsão pela camada escondida\n",
    "        dh_dw = dfunact_dx(H).reshape(3,1)*mat_in         # Derivada da camada escondida pelos pesos de 1 a 6\n",
    "\n",
    "        de_dw1 = de_dy*dprev_dh*dh_dw                     # Seguindo a regra da cadeia\n",
    "        de_dw2 = de_dy*dprev_dw                           \n",
    "\n",
    "        W1 = W1 - eta*de_dw1.reshape(2,3)               # Por fim, se atualiza os pesos para o novo valor otimizado \n",
    "        W2 = W2 - eta*de_dw2.reshape(3,1)\n",
    "        \n",
    "        \n",
    "\n",
    "   \n",
    "    iteracoes = np.append(iteracoes,j)\n",
    "    var_erro = np.append(var_erro,(1 - mse)*100)\n",
    "\n",
    "plt.plot(iteracoes,var_erro)\n",
    "plt.legend(['Aumento da acurácia através das iterações '])\n",
    "plt.show()\n",
    "print('Acurácia ao final de',j+1,'iterações:',(1 - mse)*100,'%')"
   ]
  },
  {
   "cell_type": "code",
   "execution_count": 52,
   "metadata": {},
   "outputs": [
    {
     "name": "stdout",
     "output_type": "stream",
     "text": [
      "Para o par ordenado:  0.540068318135294 , 26.7418678715534 , o valor esperado é de: 1 . O valor obtido é de: 1\n"
     ]
    }
   ],
   "source": [
    "# Teste manual para verificação em um par ordenado da escolha\n",
    "\n",
    "t = # Escolha a posição para teste (entre 0 e 210)\n",
    "\n",
    "def testador(a,b):  \n",
    "    mat_in = [a,b]      \n",
    "    H = funact(np.matmul(mat_in,W1))        \n",
    "    previsao = funact(np.matmul(H,W2))\n",
    "    return previsao\n",
    "\n",
    "def bina(previsao):\n",
    "    if previsao > 0.5:\n",
    "        return 1\n",
    "    else:\n",
    "        return 0\n",
    "    \n",
    "teste = decisao(ds['X1'][t],ds['X2'][t])\n",
    "print('Para o par ordenado: ',ds['X1'][t],',',ds['X2'][t],', o valor esperado é de:', ds['Y'][t],'. O valor obtido é de:',bina(teste) ) "
   ]
  },
  {
   "cell_type": "code",
   "execution_count": 53,
   "metadata": {},
   "outputs": [
    {
     "name": "stdout",
     "output_type": "stream",
     "text": [
      "96.47619047619045\n"
     ]
    }
   ],
   "source": [
    "# É interessante notar que os valores iniciais dos pesos são aleatórios, portanto algumas redes irão ter desempenho \n",
    "# inicial superior. Para demonstrar a capacidade da NN em classificar os dados, irei rodar o código 10 vezes, anotando \n",
    "# o valor inicial e final dessas, demonstrando a consistência do algoritmo.\n",
    "\n",
    "Valores = [[75.23809523809524,97.61904761904762],[60.47619047619048,95.71428571428572],[59.523809523809526,96.66666666666667],\n",
    "          [61.904761904761905,96.19047619047619],[65.23809523809524,95.71428571428572],[63.8095238095238,97.14285714285714],\n",
    "           [66.66666666666667,96.66666666666667],[72.38095238095238, 96.66666666666667],[66.66666666666667,97.14285714285714],\n",
    "           [64.76190476190476,95.23809523809523]]\n",
    "\n",
    "k = 0\n",
    "sum_val = 0\n",
    "\n",
    "for k in range(len(Valores)):\n",
    "    sum_val = sum_val + Valores[k][1]\n",
    "\n",
    "media = sum_val/len(Valores)\n",
    "print(media)"
   ]
  },
  {
   "cell_type": "code",
   "execution_count": null,
   "metadata": {},
   "outputs": [],
   "source": []
  },
  {
   "cell_type": "code",
   "execution_count": 58,
   "metadata": {},
   "outputs": [
    {
     "data": {
      "image/png": "[encoded data removed]",
      "text/plain": [
       "<Figure size 432x288 with 1 Axes>"
      ]
     },
     "metadata": {
      "needs_background": "light"
     },
     "output_type": "display_data"
    }
   ],
   "source": [
    "# Define mínimos e máximos \n",
    "\n",
    "x1_min = ds['X1'].min() \n",
    "x1_max = ds['X1'].max()\n",
    "\n",
    "x2_min = ds['X2'].min()\n",
    "x2_max = ds['X2'].max()\n",
    " \n",
    "    \n",
    "# Função de teste \n",
    "\n",
    "def decisao(a,b):\n",
    "    c = funact(a*W1[0][0]+b*W1[1][0])\n",
    "    d = funact(a*W1[0][1]+b*W1[1][1])\n",
    "    e = funact(a*W1[0][2]+b*W1[1][2])\n",
    "    f = funact(c*W2[0]+d*W2[1]+e*W2[2])\n",
    "    return f\n",
    "\n",
    "\n",
    "# Define os eixos X e Y\n",
    "\n",
    "x1,x2 = np.meshgrid(np.linspace(x1_min,x1_max,len(ds['Y'])),np.linspace(x2_min,x2_max,len(ds['Y'])))\n",
    "\n",
    "\n",
    "# Para cada par ordenado no Eixo XY, adota um valor binário\n",
    "\n",
    "n = 0\n",
    "m = 0\n",
    "y_e = np.zeros((len(ds['Y']),len(ds['Y'])))\n",
    "\n",
    "for n in range(len(ds['Y'])):\n",
    "    for m in range(len(ds['Y'])):\n",
    "        if decisao(x1,x2)[m][n] > 0.5:\n",
    "            y_e[m][n] = 1\n",
    "        else:\n",
    "            y_e[m][n] = 0\n",
    "        m = m + 1\n",
    "    n = n + 1\n",
    "\n",
    "    \n",
    "# Plota o gráfico do tipo Heatmap\n",
    "\n",
    "figure, axes = plt.subplots()\n",
    "\n",
    "y_e = axes.pcolormesh(x1, x2, y_e, cmap='seismic')\n",
    "axes.set_title('Mapa de decisões')\n",
    "axes.axis([x1_min, x1_max,x1_min, x1_max])\n",
    "\n",
    "\n",
    "plt.show()\n",
    "\n",
    "\n",
    "# Note, porém, que o resultado não está na mesma escala da proposta pelo enunciado"
   ]
  },
  {
   "cell_type": "code",
   "execution_count": null,
   "metadata": {},
   "outputs": [],
   "source": [
    "\n"
   ]
  },
  {
   "cell_type": "code",
   "execution_count": null,
   "metadata": {},
   "outputs": [],
   "source": []
  }
 ],
 "metadata": {
  "kernelspec": {
   "display_name": "Python 3",
   "language": "python",
   "name": "python3"
  },
  "language_info": {
   "codemirror_mode": {
    "name": "ipython",
    "version": 3
   },
   "file_extension": ".py",
   "mimetype": "text/x-python",
   "name": "python",
   "nbconvert_exporter": "python",
   "pygments_lexer": "ipython3",
   "version": "3.7.6"
  }
 },
 "nbformat": 4,
 "nbformat_minor": 4
}
